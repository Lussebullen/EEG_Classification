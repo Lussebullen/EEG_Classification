{
 "cells": [
  {
   "cell_type": "code",
   "execution_count": 1,
   "metadata": {},
   "outputs": [],
   "source": [
    "# Load all packages\n",
    "from os.path import join\n",
    "import mat73\n",
    "import matplotlib.pyplot as plt\n",
    "import numpy as np\n",
    "import mne\n",
    "from tqdm import tqdm # For progress bar"
   ]
  },
  {
   "cell_type": "code",
   "execution_count": 2,
   "metadata": {},
   "outputs": [],
   "source": [
    "# Load data into dictionary\n",
    "def LoadData(subjectpath,rootdir=\"neuro_data\"):\n",
    "    \"\"\"Loads .mat data into dictionary\n",
    "\n",
    "    Args:\n",
    "        subjectfile (str): filename of subject .mat file\n",
    "        rootdir (str, optional): path to directory holding subject data. Defaults to \"neuro_data\".\n",
    "\n",
    "    Returns:\n",
    "        dict: dictionary with subject data\n",
    "    \"\"\"\n",
    "    DataPath = join(rootdir,subjectpath)\n",
    "    data_dict = mat73.loadmat(DataPath, use_attrdict=True)\n",
    "    return data_dict[\"data\"]"
   ]
  },
  {
   "cell_type": "code",
   "execution_count": 4,
   "metadata": {},
   "outputs": [],
   "source": [
    "# Function to transform data to appropriate shape\n",
    "\n",
    "def DimConvertFunc(trial, all_channels, bad_channels, n_samples):\n",
    "    \"\"\"Converts 60 channel data to 74 channel data with dummy info, in order to fit EasyCap format.\n",
    "\n",
    "    Args:\n",
    "        trial (array of floats): data from channel\n",
    "        moving_window (int, optional): moving average window to smoothen data for visualization. Defaults to 0.\n",
    "\n",
    "    Returns:\n",
    "        _type_: (n_trials, n_samples)\n",
    "    \"\"\"\n",
    "    newTrial = np.zeros((len(all_channels),n_samples))\n",
    "    j = 0\n",
    "    filler = [0]*n_samples\n",
    "    for i, ch in enumerate(all_channels):\n",
    "        if ch in bad_channels:\n",
    "            newTrial[i]=filler\n",
    "        else:\n",
    "            newTrial[i]=trial[j]/(10**6) # Divide with ~10**6 to convert muV to V\n",
    "            j += 1\n",
    "    return newTrial"
   ]
  },
  {
   "cell_type": "code",
   "execution_count": 5,
   "metadata": {},
   "outputs": [],
   "source": [
    "def create_MNE_events(trialinfo):\n",
    "    \"\"\"Create event data structure with MNE compatible format from data[\"trialinfo\"]\n",
    "\n",
    "    Args:\n",
    "        trialinfo (_type_): data[\"trialinfo\"] as provided in the MatLab data from M. Sandsten.\n",
    "\n",
    "    Returns:\n",
    "        _type_: MNE compatible event data structure\n",
    "    \"\"\"\n",
    "\n",
    "    n = len(trialinfo)\n",
    "    metadata = [0]*n\n",
    "    for i, trialinfo in enumerate(trialinfo):\n",
    "        # side : left = 1, right = 2\n",
    "        # side_accuracy : Correct (1) Incorrect (2) No response (3) Almost correct (4)\n",
    "        metadata[i] = {\"side\":int(trialinfo[0][\"side\"]),\"accurate\":int(trialinfo[0][\"side_accuracy\"])}\n",
    "\n",
    "    event_label = [event[\"side\"] for event in metadata] # actual info, must be converted to shape (N,3)\n",
    "    events = np.zeros((n,3))\n",
    "    events[:,2] = np.array(event_label)  #Add labels to 3rd column, 2nd column irrelevant, but shape needed\n",
    "    events[:,0] = np.array(range(n))     #Add dummy IDs to first column\n",
    "    events = events.astype(int)\n",
    "    return events"
   ]
  },
  {
   "cell_type": "code",
   "execution_count": 12,
   "metadata": {},
   "outputs": [],
   "source": [
    "def create_MNE_EpochsArray(data):\n",
    "    # Constants\n",
    "    sfreq = data[\"fsample\"] # Sampling frequency\n",
    "    used_channels = [ch[0].upper() for ch in data[\"label\"]]\n",
    "    all_channels = [ch[0] for ch in data[\"elec\"][\"label\"]] # Not all upper case\n",
    "    used_channel_case = [ch for ch in all_channels if ch.upper() in used_channels] # match cases\n",
    "    bad_channels = list(set(all_channels).difference(set(used_channel_case))) # Channels not used\n",
    "    n_samples = len(data[\"trial\"][0][0]) # Amount of measurements for each channel in a trial\n",
    "\n",
    "    # MNE data structures\n",
    "\n",
    "    info = mne.create_info(all_channels, sfreq, \"eeg\")\n",
    "    info.set_montage('easycap-M1')\n",
    "    info[\"bads\"] = bad_channels\n",
    "\n",
    "    events = create_MNE_events(data[\"trialinfo\"])\n",
    "    event_dict = {\"auditory/left\":1, \"auditory/right\":2}\n",
    "\n",
    "    # Create array with 74 instead of 60 channel data to fit Easycap Scheme\n",
    "    rawdata_UpScaledDim = np.array([DimConvertFunc(epoch, all_channels, bad_channels, n_samples) for epoch in data[\"trial\"]])\n",
    "    epochs = mne.EpochsArray(rawdata_UpScaledDim, info, tmin=-2, events=events, event_id=event_dict, baseline=(-2,0))\n",
    "    infodict = {\"epochs\":epochs, \n",
    "                \"used_channels\":used_channel_case, \n",
    "                \"bad_channels\":bad_channels, \n",
    "                \"events\":events, \n",
    "                \"event_dict\":event_dict}\n",
    "    return infodict"
   ]
  },
  {
   "cell_type": "code",
   "execution_count": 29,
   "metadata": {},
   "outputs": [],
   "source": [
    "def saveEpoFIF(subject, destination):\n",
    "    \"\"\"Takes .mat eeg file provided by M. Sandsten and converts to MNE epoch .fif file\n",
    "\n",
    "    Args:\n",
    "        subject (string): name of subject .mat file\n",
    "        destination (string): location to save -epo.fif file\n",
    "    \"\"\"\n",
    "    data = LoadData(subject)\n",
    "    epodict = create_MNE_EpochsArray(data)\n",
    "    filename = subject.split(\".\")[0]+\"-epo.fif\"\n",
    "    DataPath = join(destination,filename)\n",
    "    epodict[\"epochs\"].save(DataPath)"
   ]
  },
  {
   "cell_type": "code",
   "execution_count": 34,
   "metadata": {},
   "outputs": [
    {
     "name": "stdout",
     "output_type": "stream",
     "text": [
      "Not setting metadata\n",
      "370 matching events found\n",
      "Applying baseline correction (mode: mean)\n",
      "0 projection items activated\n"
     ]
    }
   ],
   "source": [
    "destination = join(\"neuro_data\",\"raw_epofif\")\n",
    "saveEpoFIF(\"dataSubj15.mat\",destination)"
   ]
  }
 ],
 "metadata": {
  "kernelspec": {
   "display_name": "Python 3.10.4 64-bit",
   "language": "python",
   "name": "python3"
  },
  "language_info": {
   "codemirror_mode": {
    "name": "ipython",
    "version": 3
   },
   "file_extension": ".py",
   "mimetype": "text/x-python",
   "name": "python",
   "nbconvert_exporter": "python",
   "pygments_lexer": "ipython3",
   "version": "3.10.4"
  },
  "orig_nbformat": 4,
  "vscode": {
   "interpreter": {
    "hash": "369f2c481f4da34e4445cda3fffd2e751bd1c4d706f27375911949ba6bb62e1c"
   }
  }
 },
 "nbformat": 4,
 "nbformat_minor": 2
}
